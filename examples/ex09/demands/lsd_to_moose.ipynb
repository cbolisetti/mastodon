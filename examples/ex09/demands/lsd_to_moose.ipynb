{
 "cells": [
  {
   "cell_type": "code",
   "execution_count": 1,
   "metadata": {},
   "outputs": [],
   "source": [
    "import numpy as np\n",
    "data_x_ = np.loadtxt('INL_DBE_noSI/X/1.txt')\n",
    "data_y_ = np.loadtxt('INL_DBE_noSI/Y/1.txt')\n",
    "data_z_ = np.loadtxt('INL_DBE_noSI/Z/1.txt')\n",
    "nodes = (4,68,259,278,495,528,699,744,778,1085,1347,1412,1580,1649,1665,1666,1712,1898,2534,2599,3027,3060)\n",
    "im = (0.33,0.65,0.98,1.30,1.63,1.95)\n",
    "dbe_im = 0.65"
   ]
  },
  {
   "cell_type": "code",
   "execution_count": 2,
   "metadata": {},
   "outputs": [
    {
     "name": "stdout",
     "output_type": "stream",
     "text": [
      "time,accel_x_4,accel_x_68,accel_x_259,accel_x_278,accel_x_495,accel_x_528,accel_x_699,accel_x_744,accel_x_778,accel_x_1085,accel_x_1347,accel_x_1412,accel_x_1580,accel_x_1649,accel_x_1665,accel_x_1666,accel_x_1712,accel_x_1898,accel_x_2534,accel_x_2599,accel_x_3027,accel_x_3060,accel_y_4,accel_y_68,accel_y_259,accel_y_278,accel_y_495,accel_y_528,accel_y_699,accel_y_744,accel_y_778,accel_y_1085,accel_y_1347,accel_y_1412,accel_y_1580,accel_y_1649,accel_y_1665,accel_y_1666,accel_y_1712,accel_y_1898,accel_y_2534,accel_y_2599,accel_y_3027,accel_y_3060,accel_z_4,accel_z_68,accel_z_259,accel_z_278,accel_z_495,accel_z_528,accel_z_699,accel_z_744,accel_z_778,accel_z_1085,accel_z_1347,accel_z_1412,accel_z_1580,accel_z_1649,accel_z_1665,accel_z_1666,accel_z_1712,accel_z_1898,accel_z_2534,accel_z_2599,accel_z_3027,accel_z_3060\n"
     ]
    }
   ],
   "source": [
    "head = 'time,'\n",
    "for dir in ('x', 'y', 'z'):\n",
    "    for (i,node) in enumerate(nodes,1):\n",
    "        if (dir == 'z') & (i == 22):\n",
    "            head = head + 'accel_' + dir + '_' + str(node)\n",
    "        else:\n",
    "            head = head + 'accel_' + dir + '_' + str(node) + ','\n",
    "print head"
   ]
  },
  {
   "cell_type": "code",
   "execution_count": 3,
   "metadata": {
    "scrolled": true
   },
   "outputs": [
    {
     "name": "stdout",
     "output_type": "stream",
     "text": [
      "(3998, 1)\n",
      "(3998, 22)\n",
      "[[ 5.009824e+00  1.925700e-01  1.925700e-01 ...  1.925700e-01\n",
      "   1.925700e-01  1.925700e-01]\n",
      " [ 5.019918e+00  2.601700e-01  2.601700e-01 ...  2.601700e-01\n",
      "   2.601700e-01  2.601700e-01]\n",
      " [ 5.030011e+00  2.756600e-01  2.756600e-01 ...  2.756600e-01\n",
      "   2.756600e-01  2.756600e-01]\n",
      " ...\n",
      " [ 4.495830e+01 -7.706200e-04 -7.706200e-04 ... -7.706200e-04\n",
      "  -7.706200e-04 -7.706200e-04]\n",
      " [ 4.496840e+01 -7.706200e-04 -7.706200e-04 ... -7.706200e-04\n",
      "  -7.706200e-04 -7.706200e-04]\n",
      " [ 4.497814e+01 -6.849900e-04 -6.849900e-04 ... -6.849900e-04\n",
      "  -6.849900e-04 -6.849900e-04]]\n"
     ]
    }
   ],
   "source": [
    "a = data_x_[0:2,:]\n",
    "b = data_y_[0:2,1:]\n",
    "# print np.hstack((a,b))\n",
    "# print range(1,31)\n",
    "time = data_x_[:,0:1]\n",
    "x = data_x_[:,1:]\n",
    "print time.shape\n",
    "print x.shape\n",
    "c = np.hstack((time,x))\n",
    "print c"
   ]
  },
  {
   "cell_type": "code",
   "execution_count": 4,
   "metadata": {},
   "outputs": [],
   "source": [
    "# INL lsd to moose\n",
    "inl_path = 'INL_DBE_noSI'\n",
    "for (fac,haz) in ((0.5,1), (1.0,2), (1.5,3), (2.0,4), (2.5,5), (3.0,6)):\n",
    "    for i in range(1,2):\n",
    "        data_x = np.loadtxt(inl_path + '/X/' + str(i) + '.txt')\n",
    "        data_y = np.loadtxt(inl_path + '/Y/' + str(i) + '.txt')\n",
    "        data_z = np.loadtxt(inl_path + '/Z/' + str(i) + '.txt')\n",
    "        time = data_x[:,0:1]\n",
    "        data = np.hstack((time, fac*data_x[:,1:], fac*data_y[:,1:], fac*data_z[:,1:]))\n",
    "        np.savetxt('inl_moose_nosi/'+'master_out_hazard0'+str(haz)+'_sub'+str(i)+'.csv', data, delimiter=',', header=head, comments='')\n",
    "        \n",
    "        "
   ]
  },
  {
   "cell_type": "code",
   "execution_count": 5,
   "metadata": {},
   "outputs": [
    {
     "name": "stdout",
     "output_type": "stream",
     "text": [
      "[[ 5.009824]\n",
      " [ 5.019918]\n",
      " [ 5.030011]\n",
      " ...\n",
      " [34.98001 ]\n",
      " [34.99011 ]\n",
      " [34.99985 ]]\n"
     ]
    }
   ],
   "source": [
    "print time"
   ]
  },
  {
   "cell_type": "code",
   "execution_count": null,
   "metadata": {},
   "outputs": [],
   "source": []
  }
 ],
 "metadata": {
  "kernelspec": {
   "display_name": "Python 2",
   "language": "python",
   "name": "python2"
  },
  "language_info": {
   "codemirror_mode": {
    "name": "ipython",
    "version": 2
   },
   "file_extension": ".py",
   "mimetype": "text/x-python",
   "name": "python",
   "nbconvert_exporter": "python",
   "pygments_lexer": "ipython2",
   "version": "2.7.17"
  }
 },
 "nbformat": 4,
 "nbformat_minor": 2
}

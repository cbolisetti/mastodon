{
 "cells": [
  {
   "cell_type": "code",
   "execution_count": 1,
   "metadata": {},
   "outputs": [],
   "source": [
    "# Imports and functions\n",
    "from IPython.display import Image\n",
    "import pandas\n",
    "import csv\n",
    "def displaycsv(filename):\n",
    "    with open(filename) as csv_file:\n",
    "        csv_reader = csv.reader(csv_file, delimiter=',')\n",
    "        for row in csv_reader:\n",
    "            print row"
   ]
  },
  {
   "cell_type": "markdown",
   "metadata": {
    "hide_input": false
   },
   "source": [
    "# The Python FTA package in MASTODON"
   ]
  },
  {
   "cell_type": "markdown",
   "metadata": {},
   "source": [
    "## Basic fault-tree analysis\n",
    "\n",
    "This section demonstrates a basic fault-tree analysis in the `prautils` Python package in MASTODON. The demonstration starts with a fault tree described in a file called `events.csv`. This fault tree is the same as in the Saphire Technical manual, Vol 2. Only the minimal cutsets are calculated in this section. As shown in the code below, the execution can be done by initiating the `Quantification` class in the `FTA` module in the `prautils` package. The minimum inputs are the `name` (name of the problem), `logic` (csv file or a list containing the fault tree logic), and `basic_events` (csv file or list containing the basic events and probabilities associated with them. The fault tree described in this example is shown below. \n",
    "\n",
    "<img src=\"a/saphire_example_ft.png\" alt=\"Drawing\" style=\"width: 800px;\"/>\n",
    "\n",
    "\n",
    "An instance of the `Quantification` class called `saphire_fta` is first created. This class performs the fault-tree analysis and calculates the minimal cutsets automatically. These cutsets are then printed below."
   ]
  },
  {
   "cell_type": "code",
   "execution_count": 2,
   "metadata": {
    "hide_input": false,
    "scrolled": false
   },
   "outputs": [
    {
     "name": "stdout",
     "output_type": "stream",
     "text": [
      "[set([B2, B1]), set([B4, B1]), set([B1, B3, B5]), set([B5, B2, B3]), set([B4, B3, B5])]\n"
     ]
    }
   ],
   "source": [
    "from prautils import FTA\n",
    "saphire_fta = FTA.Quantification(name='saphire_demo', logic='a/events.csv', basic_events='a/bas_events.csv')\n",
    "print saphire_fta._Quantification__mcsets"
   ]
  },
  {
   "cell_type": "markdown",
   "metadata": {},
   "source": [
    "## Quantifying the minimal cutsets for point estimate probabilities\n",
    "\n",
    "The probabilities of the basic events are used to quantify each minimal cutset, namely, calculate their probability of occurrence. The sum of the probabilities of these minimal cutsets then provide the top event probability. The probabilities of the minimal cutsets calculated above and the top event probability for this fault tree are shown below. "
   ]
  },
  {
   "cell_type": "code",
   "execution_count": 3,
   "metadata": {},
   "outputs": [
    {
     "name": "stdout",
     "output_type": "stream",
     "text": [
      "       Cut Sets  Prob/Freq      IM (%)\n",
      "0         Total   0.000705  100.000000\n",
      "1      [B2, B1]   0.000200   28.374676\n",
      "2      [B4, B1]   0.000400   56.749352\n",
      "3  [B1, B3, B5]   0.000015    2.128101\n",
      "4  [B5, B2, B3]   0.000030    4.256201\n",
      "5  [B4, B3, B5]   0.000060    8.512403\n"
     ]
    }
   ],
   "source": [
    "print pandas.read_csv(saphire_fta._Quantification__name+\"_results/cutsets.csv\")"
   ]
  },
  {
   "cell_type": "markdown",
   "metadata": {},
   "source": [
    "Quantification of the top event probability is shown below. The results are presented for three types of top event probability calculations:\n",
    " - Upper bound\n",
    " - Rare event\n",
    " - Min max\n",
    "\n",
    "Note that, due to the contents of the `bas_event.csv` file because this is a point estimate analysis, and therefore the probabilities, mean, median, etc. are the same for this problem. This is because the `bas_events.csv` file provides point estimate probabilities for the basic events. If a risk distribution is provided in the basic events file, a Monte Carlo simulation is performed and a distribution of the top event risk is calculated. This will be demonstrated later."
   ]
  },
  {
   "cell_type": "code",
   "execution_count": 4,
   "metadata": {},
   "outputs": [
    {
     "name": "stdout",
     "output_type": "stream",
     "text": [
      "  Quantification Method  Prob/Freq      Mean    Median       5th      95th  \\\n",
      "0       MCS Upper Bound   0.000705  0.000705  0.000705  0.000705  0.000705   \n",
      "1            Rare Event   0.000705  0.000705  0.000705  0.000705  0.000705   \n",
      "2               Min Max   0.000694  0.000694  0.000694  0.000694  0.000694   \n",
      "\n",
      "    SD  \n",
      "0  0.0  \n",
      "1  0.0  \n",
      "2  0.0  \n"
     ]
    }
   ],
   "source": [
    "print pandas.read_csv(saphire_fta._Quantification__name+\"_results/top_event.csv\")"
   ]
  },
  {
   "cell_type": "markdown",
   "metadata": {},
   "source": [
    "## Seismic PRA using MASTODON\n",
    "\n",
    "MASTODON can also perform seismic PRA by propagating the component fragilities through the fault trees. The inputs for seismic PRA include the hazard curve, provided as a csv file, range of the intensity measure in the hazard, number of bins, and fragilities of the components in the basic events file. The fragilities in the basic events file should be expressed as lognormal distributions, indicated by the `LNORM` tag in the basic events file. The seismic risk can be calculated using the following ways. MASTODON can calculate the top event probability (or the system risk) using both procedures. \n",
    " - Propagating fragilities\n",
    "     1. The hazard curve is split into the number of bins input by the user. \n",
    "     2. For each bin, a probability of failure of the component is computed using the fragility curve.\n",
    "     3. These probabilities are propagated through the fault tree and this computation is repeated for each bin. This results in a set of top event probabilities corresponding to the number of bins in the hazard curve.\n",
    "     4. A lognormal distribution is fit into the top event probabilities vs. intensity measures (usually PGA) to calculate a system fragility curve. \n",
    "     5. The system fragility curve is then convolved with the hazard curve to calculate the risk.\n",
    " - Propagating risk\n",
    "     1. The fragility curves of each component are first convolved with the hazard curve to calculate the total component risk of failure, given the seismic hazard. \n",
    "     2. The risks of failure of the components are propagated through the fault tree as point estimates to calculate the final risk. \n",
    "\n",
    "Only the second method can currently be A fresh PRA is performed below for the same fault tree, now assuming that all initiating events are seismic induced failures. Method 2, above is used to calculate the top event risk presented below. "
   ]
  },
  {
   "cell_type": "code",
   "execution_count": 7,
   "metadata": {},
   "outputs": [
    {
     "name": "stdout",
     "output_type": "stream",
     "text": [
      "TOPPPPP FRSGGGGGGG!! [set([SPumpF]), set([SDistPanelF]), set([SBlockWallF]), set([SBatF, SSWGearF])]\n",
      "TOPPPPP FRSGGGGGGG!! [0.0001703761580608597, 0.0038919883026651927, 0.02008220991335506, 0.059633296851492816, 0.129018459444084, 0.22566387752956207, 0.3398382717593824, 0.4593351289031176, 0.5733127355572759, 0.6742951804265046, 0.7585602202163305, 0.8255004290201328]\n",
      "[set([SPumpF]), set([SDistPanelF]), set([SBlockWallF]), set([SBatF, SSWGearF])]\n",
      "OrderedDict([('MCS Upper Bound', [[2.821672013042509e-06, 2.821672013042509e-06, 2.821672013042509e-06, 2.821672013042509e-06, 2.821672013042509e-06, 0.0]]), ('Rare Event', [[2.8216734236261906e-06, 2.8216734236261906e-06, 2.8216734236261906e-06, 2.8216734236261906e-06, 2.8216734236261906e-06, 0.0]]), ('Min Max', [[2.821672013122199e-06, 2.821672013122199e-06, 2.821672013122199e-06, 2.821672013122199e-06, 2.821672013122199e-06, 0.0]])])\n",
      "            Cut Sets     Prob/Freq      IM (%)\n",
      "0              Total  2.821672e-06  100.000000\n",
      "1           [SPumpF]  9.289720e-09    0.329227\n",
      "2      [SDistPanelF]  2.176255e-06   77.126449\n",
      "3      [SBlockWallF]  6.361280e-07   22.544365\n",
      "4  [SBatF, SSWGearF]  2.262810e-13    0.000008\n",
      "  Quantification Method  Prob/Freq      Mean    Median       5th      95th  \\\n",
      "0       MCS Upper Bound   0.000003  0.000003  0.000003  0.000003  0.000003   \n",
      "1            Rare Event   0.000003  0.000003  0.000003  0.000003  0.000003   \n",
      "2               Min Max   0.000003  0.000003  0.000003  0.000003  0.000003   \n",
      "\n",
      "    SD  \n",
      "0  0.0  \n",
      "1  0.0  \n",
      "2  0.0  \n"
     ]
    }
   ],
   "source": [
    "seismic_fta = FTA.Quantification(name='seismic_demo', \n",
    "                                         logic='b/seismic_logic.csv', \n",
    "                                         basic_events='b/seismic_bas_events_ln.csv', \n",
    "                                         analysis='Fragility', \n",
    "                                         hazard='b/seismic_hazard.csv',\n",
    "                                         IM=[0.1, 2],\n",
    "                                         nbins=12)\n",
    "print seismic_fta._Quantification__mcsets\n",
    "print pandas.read_csv(seismic_fta._Quantification__name+\"_results/cutsets.csv\")\n",
    "print pandas.read_csv(seismic_fta._Quantification__name+\"_results/top_event.csv\")"
   ]
  },
  {
   "cell_type": "markdown",
   "metadata": {},
   "source": [
    "The system fragility parameters calculated using method 1 is calculated below. These parameters are calculated "
   ]
  },
  {
   "cell_type": "code",
   "execution_count": 6,
   "metadata": {},
   "outputs": [
    {
     "name": "stdout",
     "output_type": "stream",
     "text": [
      "Median:\t1.328905707114457\n",
      "Beta:\t0.4161228970675382\n"
     ]
    }
   ],
   "source": [
    "print \"Median:\\t\", seismic_fta._Quantification__ln[0]\n",
    "print \"Beta:\\t\", seismic_fta._Quantification__ln[1]"
   ]
  },
  {
   "cell_type": "code",
   "execution_count": 13,
   "metadata": {},
   "outputs": [
    {
     "name": "stdout",
     "output_type": "stream",
     "text": [
      "[[2.821672013042509e-06, 2.821672013042509e-06, 2.821672013042509e-06, 2.821672013042509e-06, 2.821672013042509e-06, 0.0]]\n"
     ]
    }
   ],
   "source": [
    "print seismic_fta._Quantification__top_cal['MCS Upper Bound']"
   ]
  },
  {
   "cell_type": "code",
   "execution_count": null,
   "metadata": {},
   "outputs": [],
   "source": []
  }
 ],
 "metadata": {
  "kernelspec": {
   "display_name": "Python 2",
   "language": "python",
   "name": "python2"
  },
  "language_info": {
   "codemirror_mode": {
    "name": "ipython",
    "version": 2
   },
   "file_extension": ".py",
   "mimetype": "text/x-python",
   "name": "python",
   "nbconvert_exporter": "python",
   "pygments_lexer": "ipython2",
   "version": "2.7.14"
  },
  "toc": {
   "base_numbering": 1,
   "nav_menu": {
    "height": "266px",
    "width": "734px"
   },
   "number_sections": true,
   "sideBar": true,
   "skip_h1_title": false,
   "title_cell": "Table of Contents",
   "title_sidebar": "Contents",
   "toc_cell": false,
   "toc_position": {
    "height": "calc(100% - 180px)",
    "left": "10px",
    "top": "150px",
    "width": "165px"
   },
   "toc_section_display": true,
   "toc_window_display": false
  }
 },
 "nbformat": 4,
 "nbformat_minor": 2
}

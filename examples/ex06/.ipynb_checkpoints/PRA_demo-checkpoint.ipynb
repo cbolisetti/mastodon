{
 "cells": [
  {
   "cell_type": "code",
   "execution_count": 1,
   "metadata": {},
   "outputs": [],
   "source": [
    "# Imports and functions\n",
    "from IPython.display import Image\n",
    "import pandas\n",
    "import csv\n",
    "def displaycsv(filename):\n",
    "    with open(filename) as csv_file:\n",
    "        csv_reader = csv.reader(csv_file, delimiter=',')\n",
    "        for row in csv_reader:\n",
    "            print row"
   ]
  },
  {
   "cell_type": "markdown",
   "metadata": {
    "hide_input": false
   },
   "source": [
    "# The Python FTA package in MASTODON"
   ]
  },
  {
   "cell_type": "markdown",
   "metadata": {},
   "source": [
    "## Basic fault-tree analysis\n",
    "\n",
    "This section demonstrates a basic fault-tree analysis in the `prautils` Python package in MASTODON. The demonstration starts with a fault tree described in a file called `events.csv`. This fault tree is the same as in the Saphire Technical manual, Vol 2. Only the minimal cutsets are calculated in this section. As shown in the code below, the execution can be done by initiating the `Quantification` class in the `FTA` module in the `prautils` package. The minimum inputs are the `name` (name of the problem), `logic` (csv file or a list containing the fault tree logic), and `basic_events` (csv file or list containing the basic events and probabilities associated with them. The fault tree described in this example is shown below. \n",
    "\n",
    "<img src=\"files/saphire_example_ft.png\" alt=\"Drawing\" style=\"width: 800px;\"/>\n",
    "\n",
    "\n",
    "An instance of the `Quantification` class called `saphire_fta` is first created. This class performs the fault-tree analysis and calculates the minimal cutsets automatically. These cutsets are then printed below."
   ]
  },
  {
   "cell_type": "code",
   "execution_count": 2,
   "metadata": {
    "hide_input": false,
    "scrolled": false
   },
   "outputs": [
    {
     "name": "stdout",
     "output_type": "stream",
     "text": [
      "[set([B2, B1]), set([B4, B1]), set([B3, B1, B5]), set([B2, B5, B3]), set([B4, B5, B3])]\n"
     ]
    }
   ],
   "source": [
    "from prautils import FTA\n",
    "saphire_fta = FTA.Quantification(name='saphire_example', logic='a/events.csv', basic_events='a/bas_events.csv')\n",
    "print saphire_fta._Quantification__mcsets"
   ]
  },
  {
   "cell_type": "markdown",
   "metadata": {},
   "source": [
    "## Quantifying the minimal cutsets\n",
    "\n",
    "The probabilities of the basic events are used to quantify each minimal cutset, namely, calculate their probability of occurrence. The sum of the probabilities of these minimal cutsets then provide the top event probability. The probabilities of the minimal cutsets calculated above and the top event probability for this fault tree are shown below. "
   ]
  },
  {
   "cell_type": "code",
   "execution_count": 3,
   "metadata": {},
   "outputs": [
    {
     "name": "stdout",
     "output_type": "stream",
     "text": [
      "       Cut Sets  Prob/Freq      IM (%)\n",
      "0         Total   0.000705  100.000000\n",
      "1      [B2, B1]   0.000200   28.374676\n",
      "2      [B4, B1]   0.000400   56.749352\n",
      "3  [B3, B1, B5]   0.000015    2.128101\n",
      "4  [B2, B5, B3]   0.000030    4.256201\n",
      "5  [B4, B5, B3]   0.000060    8.512403\n"
     ]
    }
   ],
   "source": [
    "print pandas.read_csv(\"a/\"+saphire_fta._Quantification__name+\"_results/cutsets.csv\")"
   ]
  },
  {
   "cell_type": "markdown",
   "metadata": {},
   "source": [
    "Quantification of the top event probability is shown below. The results are presented for three types of top event probability calculations:\n",
    " - Upper bound\n",
    " - Rare event\n",
    " - Min max\n",
    "\n",
    "Note that, due to the contents of the `bas_event.csv` file because this is a point estimate analysis, and therefore the probabilities, mean, median, etc. are the same for this problem. This is because the `bas_events.csv` file provides point estimate probabilities for the basic events. If a risk distribution is provided in the basic events file, a Monte Carlo simulation is performed and a distribution of the top event risk is calculated. This will be demonstrated later."
   ]
  },
  {
   "cell_type": "code",
   "execution_count": 4,
   "metadata": {},
   "outputs": [
    {
     "name": "stdout",
     "output_type": "stream",
     "text": [
      "  Quantification Method  Prob/Freq      Mean    Median       5th      95th  \\\n",
      "0       MCS Upper Bound   0.000705  0.000705  0.000705  0.000705  0.000705   \n",
      "1            Rare Event   0.000705  0.000705  0.000705  0.000705  0.000705   \n",
      "2               Min Max   0.000694  0.000694  0.000694  0.000694  0.000694   \n",
      "\n",
      "    SD  \n",
      "0  0.0  \n",
      "1  0.0  \n",
      "2  0.0  \n"
     ]
    }
   ],
   "source": [
    "print pandas.read_csv(\"a/\"+saphire_fta._Quantification__name+\"_results/top_event.csv\")"
   ]
  },
  {
   "cell_type": "markdown",
   "metadata": {},
   "source": [
    "## Seismic PRA using MASTODON\n",
    "\n",
    "MASTODON can also perform seismic PRA by propagating the component fragilities through the fault trees. The inputs for seismic PRA include the hazard curve, provided as a csv file, range of the intensity measure in the hazard, number of bins, and fragilities of the components in the basic events file. The fragilities in the basic events file should be expressed as lognormal distributions, indicated by the `LNORM` tag in the basic events file. The seismic risk can be calculated using the following ways. MASTODON can calculate the top event probability (or the system risk) using both procedures. \n",
    " - Propagating fragilities\n",
    "     1. The hazard curve is split into the number of bins input by the user. \n",
    "     2. For each bin, a probability of failure of the component is computed using the fragility curve.\n",
    "     3. These probabilities are propagated through the fault tree and this computation is repeated for each bin. This results in a set of top event probabilities corresponding to the number of bins in the hazard curve.\n",
    "     4. A lognormal distribution is fit into the top event probabilities vs. intensity measures (usually PGA) to calculate a system fragility curve. \n",
    "     5. The system fragility curve is then convolved with the hazard curve to calculate the risk.\n",
    " - Propagating risk\n",
    "     1. The fragility curves of each component are first convolved with the hazard curve to calculate the total component risk of failure, given the seismic hazard. \n",
    "     2. The risks of failure of the components are propagated through the fault tree as point estimates to calculate the final risk. \n",
    "\n",
    "A fresh PRA is performed below for the same fault tree, now assuming that all initiating events are seismic induced failures. "
   ]
  },
  {
   "cell_type": "code",
   "execution_count": 5,
   "metadata": {},
   "outputs": [
    {
     "name": "stdout",
     "output_type": "stream",
     "text": [
      "[set([B2, B1]), set([B4, B1]), set([B3, B1, B5]), set([B3, B2, B5]), set([B3, B4, B5])]\n",
      "[]\n",
      "<function __MCprob at 0x1077a4668>\n",
      "<function __Min_max at 0x1077a4758>\n"
     ]
    },
    {
     "name": "stderr",
     "output_type": "stream",
     "text": [
      "/Users/bolic/projects/mastodon/python/prautils/FTA.py:623: UserWarning: Basic event is not used in logic of the fault tree: C1\n",
      "  warnings.warn(\"Basic event is not used in logic of the fault tree: \" + name)\n",
      "/Users/bolic/projects/mastodon/python/prautils/FTA.py:623: UserWarning: Basic event is not used in logic of the fault tree: C2\n",
      "  warnings.warn(\"Basic event is not used in logic of the fault tree: \" + name)\n",
      "/Users/bolic/projects/mastodon/python/prautils/FTA.py:623: UserWarning: Basic event is not used in logic of the fault tree: C3\n",
      "  warnings.warn(\"Basic event is not used in logic of the fault tree: \" + name)\n",
      "/Users/bolic/projects/mastodon/python/prautils/FTA.py:623: UserWarning: Basic event is not used in logic of the fault tree: C4\n",
      "  warnings.warn(\"Basic event is not used in logic of the fault tree: \" + name)\n"
     ]
    },
    {
     "ename": "ValueError",
     "evalue": "operands could not be broadcast together with shapes (12,) (0,) ",
     "output_type": "error",
     "traceback": [
      "\u001b[0;31m---------------------------------------------------------------------------\u001b[0m",
      "\u001b[0;31mValueError\u001b[0m                                Traceback (most recent call last)",
      "\u001b[0;32m<ipython-input-5-d5e6d5b1a32e>\u001b[0m in \u001b[0;36m<module>\u001b[0;34m()\u001b[0m\n\u001b[1;32m      5\u001b[0m                                          \u001b[0mhazard\u001b[0m\u001b[0;34m=\u001b[0m\u001b[0;34m'hazard.csv'\u001b[0m\u001b[0;34m,\u001b[0m\u001b[0;34m\u001b[0m\u001b[0m\n\u001b[1;32m      6\u001b[0m                                          \u001b[0mIM\u001b[0m\u001b[0;34m=\u001b[0m\u001b[0;34m[\u001b[0m\u001b[0;36m0.1\u001b[0m\u001b[0;34m,\u001b[0m \u001b[0;36m2\u001b[0m\u001b[0;34m]\u001b[0m\u001b[0;34m,\u001b[0m\u001b[0;34m\u001b[0m\u001b[0m\n\u001b[0;32m----> 7\u001b[0;31m                                          nbins=12)\n\u001b[0m",
      "\u001b[0;32m/Users/bolic/projects/mastodon/python/prautils/FTA.py\u001b[0m in \u001b[0;36m__init__\u001b[0;34m(self, name, logic, basic_events, analysis, hazard, IM, nbins, uncertainty, nsamp, seed)\u001b[0m\n\u001b[1;32m    476\u001b[0m             self.__topfragility, self.__ln = self.__TOPfragility(\n\u001b[1;32m    477\u001b[0m                 \u001b[0mself\u001b[0m\u001b[0;34m.\u001b[0m\u001b[0m__Min_max\u001b[0m\u001b[0;34m,\u001b[0m \u001b[0mself\u001b[0m\u001b[0;34m.\u001b[0m\u001b[0m__mcsets\u001b[0m\u001b[0;34m,\u001b[0m \u001b[0mself\u001b[0m\u001b[0;34m.\u001b[0m\u001b[0m__MCprob\u001b[0m\u001b[0;34m,\u001b[0m\u001b[0;34m\u001b[0m\u001b[0m\n\u001b[0;32m--> 478\u001b[0;31m                 \u001b[0mself\u001b[0m\u001b[0;34m.\u001b[0m\u001b[0m__lnparameters\u001b[0m\u001b[0;34m,\u001b[0m \u001b[0mself\u001b[0m\u001b[0;34m.\u001b[0m\u001b[0m__im\u001b[0m\u001b[0;34m\u001b[0m\u001b[0m\n\u001b[0m\u001b[1;32m    479\u001b[0m             )\n\u001b[1;32m    480\u001b[0m \u001b[0;34m\u001b[0m\u001b[0m\n",
      "\u001b[0;32m/Users/bolic/projects/mastodon/python/prautils/FTA.py\u001b[0m in \u001b[0;36m__TOPfragility\u001b[0;34m(min_max, mcsets, mcprob, lnparameters, intmes)\u001b[0m\n\u001b[1;32m    952\u001b[0m         \u001b[0;32mprint\u001b[0m \u001b[0mmin_max\u001b[0m\u001b[0;34m\u001b[0m\u001b[0m\n\u001b[1;32m    953\u001b[0m         \u001b[0;31m# lognormal parameters of TOP Event fragility\u001b[0m\u001b[0;34m\u001b[0m\u001b[0;34m\u001b[0m\u001b[0m\n\u001b[0;32m--> 954\u001b[0;31m         \u001b[0mlnpar\u001b[0m \u001b[0;34m=\u001b[0m \u001b[0mlnparameters\u001b[0m\u001b[0;34m(\u001b[0m\u001b[0mintmes\u001b[0m\u001b[0;34m,\u001b[0m \u001b[0mtop_frag\u001b[0m\u001b[0;34m)\u001b[0m\u001b[0;34m\u001b[0m\u001b[0m\n\u001b[0m\u001b[1;32m    955\u001b[0m         \u001b[0;32mreturn\u001b[0m \u001b[0mtop_frag\u001b[0m\u001b[0;34m,\u001b[0m \u001b[0mlnpar\u001b[0m\u001b[0;34m[\u001b[0m\u001b[0;36m0\u001b[0m\u001b[0;34m]\u001b[0m\u001b[0;34m\u001b[0m\u001b[0m\n\u001b[1;32m    956\u001b[0m \u001b[0;34m\u001b[0m\u001b[0m\n",
      "\u001b[0;32m/Users/bolic/projects/mastodon/python/prautils/FTA.py\u001b[0m in \u001b[0;36m__lnparameters\u001b[0;34m(intmes, fragility)\u001b[0m\n\u001b[1;32m    839\u001b[0m         \u001b[0;32mfrom\u001b[0m \u001b[0mscipy\u001b[0m\u001b[0;34m.\u001b[0m\u001b[0moptimize\u001b[0m \u001b[0;32mimport\u001b[0m \u001b[0mcurve_fit\u001b[0m\u001b[0;34m\u001b[0m\u001b[0m\n\u001b[1;32m    840\u001b[0m \u001b[0;34m\u001b[0m\u001b[0m\n\u001b[0;32m--> 841\u001b[0;31m         \u001b[0;34m(\u001b[0m\u001b[0mlogpara\u001b[0m\u001b[0;34m,\u001b[0m \u001b[0mlogcov\u001b[0m\u001b[0;34m)\u001b[0m \u001b[0;34m=\u001b[0m \u001b[0mcurve_fit\u001b[0m\u001b[0;34m(\u001b[0m\u001b[0mQuantification\u001b[0m\u001b[0;34m.\u001b[0m\u001b[0m__logcdf\u001b[0m\u001b[0;34m,\u001b[0m \u001b[0mintmes\u001b[0m\u001b[0;34m,\u001b[0m \u001b[0mfragility\u001b[0m\u001b[0;34m)\u001b[0m\u001b[0;34m\u001b[0m\u001b[0m\n\u001b[0m\u001b[1;32m    842\u001b[0m         \u001b[0;32mreturn\u001b[0m \u001b[0mlogpara\u001b[0m\u001b[0;34m,\u001b[0m \u001b[0mlogcov\u001b[0m\u001b[0;34m\u001b[0m\u001b[0m\n\u001b[1;32m    843\u001b[0m \u001b[0;34m\u001b[0m\u001b[0m\n",
      "\u001b[0;32m/opt/moose/miniconda/envs/env_jupyter/lib/python2.7/site-packages/scipy/optimize/minpack.pyc\u001b[0m in \u001b[0;36mcurve_fit\u001b[0;34m(f, xdata, ydata, p0, sigma, absolute_sigma, check_finite, bounds, method, jac, **kwargs)\u001b[0m\n\u001b[1;32m    740\u001b[0m         \u001b[0;31m# Remove full_output from kwargs, otherwise we're passing it in twice.\u001b[0m\u001b[0;34m\u001b[0m\u001b[0;34m\u001b[0m\u001b[0m\n\u001b[1;32m    741\u001b[0m         \u001b[0mreturn_full\u001b[0m \u001b[0;34m=\u001b[0m \u001b[0mkwargs\u001b[0m\u001b[0;34m.\u001b[0m\u001b[0mpop\u001b[0m\u001b[0;34m(\u001b[0m\u001b[0;34m'full_output'\u001b[0m\u001b[0;34m,\u001b[0m \u001b[0mFalse\u001b[0m\u001b[0;34m)\u001b[0m\u001b[0;34m\u001b[0m\u001b[0m\n\u001b[0;32m--> 742\u001b[0;31m         \u001b[0mres\u001b[0m \u001b[0;34m=\u001b[0m \u001b[0mleastsq\u001b[0m\u001b[0;34m(\u001b[0m\u001b[0mfunc\u001b[0m\u001b[0;34m,\u001b[0m \u001b[0mp0\u001b[0m\u001b[0;34m,\u001b[0m \u001b[0mDfun\u001b[0m\u001b[0;34m=\u001b[0m\u001b[0mjac\u001b[0m\u001b[0;34m,\u001b[0m \u001b[0mfull_output\u001b[0m\u001b[0;34m=\u001b[0m\u001b[0;36m1\u001b[0m\u001b[0;34m,\u001b[0m \u001b[0;34m**\u001b[0m\u001b[0mkwargs\u001b[0m\u001b[0;34m)\u001b[0m\u001b[0;34m\u001b[0m\u001b[0m\n\u001b[0m\u001b[1;32m    743\u001b[0m         \u001b[0mpopt\u001b[0m\u001b[0;34m,\u001b[0m \u001b[0mpcov\u001b[0m\u001b[0;34m,\u001b[0m \u001b[0minfodict\u001b[0m\u001b[0;34m,\u001b[0m \u001b[0merrmsg\u001b[0m\u001b[0;34m,\u001b[0m \u001b[0mier\u001b[0m \u001b[0;34m=\u001b[0m \u001b[0mres\u001b[0m\u001b[0;34m\u001b[0m\u001b[0m\n\u001b[1;32m    744\u001b[0m         \u001b[0mcost\u001b[0m \u001b[0;34m=\u001b[0m \u001b[0mnp\u001b[0m\u001b[0;34m.\u001b[0m\u001b[0msum\u001b[0m\u001b[0;34m(\u001b[0m\u001b[0minfodict\u001b[0m\u001b[0;34m[\u001b[0m\u001b[0;34m'fvec'\u001b[0m\u001b[0;34m]\u001b[0m \u001b[0;34m**\u001b[0m \u001b[0;36m2\u001b[0m\u001b[0;34m)\u001b[0m\u001b[0;34m\u001b[0m\u001b[0m\n",
      "\u001b[0;32m/opt/moose/miniconda/envs/env_jupyter/lib/python2.7/site-packages/scipy/optimize/minpack.pyc\u001b[0m in \u001b[0;36mleastsq\u001b[0;34m(func, x0, args, Dfun, full_output, col_deriv, ftol, xtol, gtol, maxfev, epsfcn, factor, diag)\u001b[0m\n\u001b[1;32m    375\u001b[0m     \u001b[0;32mif\u001b[0m \u001b[0;32mnot\u001b[0m \u001b[0misinstance\u001b[0m\u001b[0;34m(\u001b[0m\u001b[0margs\u001b[0m\u001b[0;34m,\u001b[0m \u001b[0mtuple\u001b[0m\u001b[0;34m)\u001b[0m\u001b[0;34m:\u001b[0m\u001b[0;34m\u001b[0m\u001b[0m\n\u001b[1;32m    376\u001b[0m         \u001b[0margs\u001b[0m \u001b[0;34m=\u001b[0m \u001b[0;34m(\u001b[0m\u001b[0margs\u001b[0m\u001b[0;34m,\u001b[0m\u001b[0;34m)\u001b[0m\u001b[0;34m\u001b[0m\u001b[0m\n\u001b[0;32m--> 377\u001b[0;31m     \u001b[0mshape\u001b[0m\u001b[0;34m,\u001b[0m \u001b[0mdtype\u001b[0m \u001b[0;34m=\u001b[0m \u001b[0m_check_func\u001b[0m\u001b[0;34m(\u001b[0m\u001b[0;34m'leastsq'\u001b[0m\u001b[0;34m,\u001b[0m \u001b[0;34m'func'\u001b[0m\u001b[0;34m,\u001b[0m \u001b[0mfunc\u001b[0m\u001b[0;34m,\u001b[0m \u001b[0mx0\u001b[0m\u001b[0;34m,\u001b[0m \u001b[0margs\u001b[0m\u001b[0;34m,\u001b[0m \u001b[0mn\u001b[0m\u001b[0;34m)\u001b[0m\u001b[0;34m\u001b[0m\u001b[0m\n\u001b[0m\u001b[1;32m    378\u001b[0m     \u001b[0mm\u001b[0m \u001b[0;34m=\u001b[0m \u001b[0mshape\u001b[0m\u001b[0;34m[\u001b[0m\u001b[0;36m0\u001b[0m\u001b[0;34m]\u001b[0m\u001b[0;34m\u001b[0m\u001b[0m\n\u001b[1;32m    379\u001b[0m     \u001b[0;32mif\u001b[0m \u001b[0mn\u001b[0m \u001b[0;34m>\u001b[0m \u001b[0mm\u001b[0m\u001b[0;34m:\u001b[0m\u001b[0;34m\u001b[0m\u001b[0m\n",
      "\u001b[0;32m/opt/moose/miniconda/envs/env_jupyter/lib/python2.7/site-packages/scipy/optimize/minpack.pyc\u001b[0m in \u001b[0;36m_check_func\u001b[0;34m(checker, argname, thefunc, x0, args, numinputs, output_shape)\u001b[0m\n\u001b[1;32m     24\u001b[0m def _check_func(checker, argname, thefunc, x0, args, numinputs,\n\u001b[1;32m     25\u001b[0m                 output_shape=None):\n\u001b[0;32m---> 26\u001b[0;31m     \u001b[0mres\u001b[0m \u001b[0;34m=\u001b[0m \u001b[0matleast_1d\u001b[0m\u001b[0;34m(\u001b[0m\u001b[0mthefunc\u001b[0m\u001b[0;34m(\u001b[0m\u001b[0;34m*\u001b[0m\u001b[0;34m(\u001b[0m\u001b[0;34m(\u001b[0m\u001b[0mx0\u001b[0m\u001b[0;34m[\u001b[0m\u001b[0;34m:\u001b[0m\u001b[0mnuminputs\u001b[0m\u001b[0;34m]\u001b[0m\u001b[0;34m,\u001b[0m\u001b[0;34m)\u001b[0m \u001b[0;34m+\u001b[0m \u001b[0margs\u001b[0m\u001b[0;34m)\u001b[0m\u001b[0;34m)\u001b[0m\u001b[0;34m)\u001b[0m\u001b[0;34m\u001b[0m\u001b[0m\n\u001b[0m\u001b[1;32m     27\u001b[0m     \u001b[0;32mif\u001b[0m \u001b[0;34m(\u001b[0m\u001b[0moutput_shape\u001b[0m \u001b[0;32mis\u001b[0m \u001b[0;32mnot\u001b[0m \u001b[0mNone\u001b[0m\u001b[0;34m)\u001b[0m \u001b[0;32mand\u001b[0m \u001b[0;34m(\u001b[0m\u001b[0mshape\u001b[0m\u001b[0;34m(\u001b[0m\u001b[0mres\u001b[0m\u001b[0;34m)\u001b[0m \u001b[0;34m!=\u001b[0m \u001b[0moutput_shape\u001b[0m\u001b[0;34m)\u001b[0m\u001b[0;34m:\u001b[0m\u001b[0;34m\u001b[0m\u001b[0m\n\u001b[1;32m     28\u001b[0m         \u001b[0;32mif\u001b[0m \u001b[0;34m(\u001b[0m\u001b[0moutput_shape\u001b[0m\u001b[0;34m[\u001b[0m\u001b[0;36m0\u001b[0m\u001b[0;34m]\u001b[0m \u001b[0;34m!=\u001b[0m \u001b[0;36m1\u001b[0m\u001b[0;34m)\u001b[0m\u001b[0;34m:\u001b[0m\u001b[0;34m\u001b[0m\u001b[0m\n",
      "\u001b[0;32m/opt/moose/miniconda/envs/env_jupyter/lib/python2.7/site-packages/scipy/optimize/minpack.pyc\u001b[0m in \u001b[0;36mfunc_wrapped\u001b[0;34m(params)\u001b[0m\n\u001b[1;32m    452\u001b[0m     \u001b[0;32mif\u001b[0m \u001b[0mtransform\u001b[0m \u001b[0;32mis\u001b[0m \u001b[0mNone\u001b[0m\u001b[0;34m:\u001b[0m\u001b[0;34m\u001b[0m\u001b[0m\n\u001b[1;32m    453\u001b[0m         \u001b[0;32mdef\u001b[0m \u001b[0mfunc_wrapped\u001b[0m\u001b[0;34m(\u001b[0m\u001b[0mparams\u001b[0m\u001b[0;34m)\u001b[0m\u001b[0;34m:\u001b[0m\u001b[0;34m\u001b[0m\u001b[0m\n\u001b[0;32m--> 454\u001b[0;31m             \u001b[0;32mreturn\u001b[0m \u001b[0mfunc\u001b[0m\u001b[0;34m(\u001b[0m\u001b[0mxdata\u001b[0m\u001b[0;34m,\u001b[0m \u001b[0;34m*\u001b[0m\u001b[0mparams\u001b[0m\u001b[0;34m)\u001b[0m \u001b[0;34m-\u001b[0m \u001b[0mydata\u001b[0m\u001b[0;34m\u001b[0m\u001b[0m\n\u001b[0m\u001b[1;32m    455\u001b[0m     \u001b[0;32melif\u001b[0m \u001b[0mtransform\u001b[0m\u001b[0;34m.\u001b[0m\u001b[0mndim\u001b[0m \u001b[0;34m==\u001b[0m \u001b[0;36m1\u001b[0m\u001b[0;34m:\u001b[0m\u001b[0;34m\u001b[0m\u001b[0m\n\u001b[1;32m    456\u001b[0m         \u001b[0;32mdef\u001b[0m \u001b[0mfunc_wrapped\u001b[0m\u001b[0;34m(\u001b[0m\u001b[0mparams\u001b[0m\u001b[0;34m)\u001b[0m\u001b[0;34m:\u001b[0m\u001b[0;34m\u001b[0m\u001b[0m\n",
      "\u001b[0;31mValueError\u001b[0m: operands could not be broadcast together with shapes (12,) (0,) "
     ]
    }
   ],
   "source": [
    "saphire_fta_seismic = FTA.Quantification(name='saphire_example_seismic', \n",
    "                                         logic='b/ssi_logic.csv', \n",
    "                                         basic_events='bas_events_ln.csv', \n",
    "                                         analysis='Fragility', \n",
    "                                         hazard='hazard.csv',\n",
    "                                         IM=[0.1, 2],\n",
    "                                         nbins=12)"
   ]
  },
  {
   "cell_type": "code",
   "execution_count": null,
   "metadata": {},
   "outputs": [],
   "source": []
  },
  {
   "cell_type": "code",
   "execution_count": null,
   "metadata": {},
   "outputs": [],
   "source": []
  }
 ],
 "metadata": {
  "kernelspec": {
   "display_name": "Python 2",
   "language": "python",
   "name": "python2"
  },
  "language_info": {
   "codemirror_mode": {
    "name": "ipython",
    "version": 2
   },
   "file_extension": ".py",
   "mimetype": "text/x-python",
   "name": "python",
   "nbconvert_exporter": "python",
   "pygments_lexer": "ipython2",
   "version": "2.7.14"
  },
  "toc": {
   "base_numbering": 1,
   "nav_menu": {
    "height": "266px",
    "width": "734px"
   },
   "number_sections": true,
   "sideBar": true,
   "skip_h1_title": false,
   "title_cell": "Table of Contents",
   "title_sidebar": "Contents",
   "toc_cell": false,
   "toc_position": {
    "height": "calc(100% - 180px)",
    "left": "10px",
    "top": "150px",
    "width": "165px"
   },
   "toc_section_display": true,
   "toc_window_display": false
  }
 },
 "nbformat": 4,
 "nbformat_minor": 2
}

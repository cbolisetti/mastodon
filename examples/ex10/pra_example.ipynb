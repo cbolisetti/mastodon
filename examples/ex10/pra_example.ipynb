{
 "cells": [
  {
   "cell_type": "code",
   "execution_count": 1,
   "metadata": {},
   "outputs": [],
   "source": [
    "from mastodonutils import FTA\n",
    "import numpy as np"
   ]
  },
  {
   "cell_type": "markdown",
   "metadata": {},
   "source": [
    "# Demonstration of the MASTODON FTA Python module"
   ]
  },
  {
   "cell_type": "markdown",
   "metadata": {},
   "source": [
    "## GNF fault tree analysis"
   ]
  },
  {
   "cell_type": "code",
   "execution_count": 10,
   "metadata": {},
   "outputs": [
    {
     "name": "stdout",
     "output_type": "stream",
     "text": [
      "[set([STRC]), set([CPUMP]), set([PVES]), set([PIP]), set([MCC]), set([BAT]), set([AIRH, DUCT])]\n",
      "TOPRISK_1: \t(8.50415382891434e-07, 8.504154672905205e-07, 8.504153829383136e-07)\n",
      "TOPRISK_2: \t[8.402468724836571e-07]\n",
      "Bin IM: \t[0.33166666666666667, 0.655, 0.9783333333333333, 1.3016666666666665, 1.6249999999999998, 1.9483333333333333]\n",
      "\n",
      "Bin MAFE: \t[2.31339705e-04 8.21988516e-06 7.61400613e-07 1.02407002e-07\n",
      " 1.37735560e-08 1.85251830e-09]\n",
      "\n",
      "Bin top fragility: \t[7.820036923316777e-05, 0.011489400976409186, 0.08903590814568978, 0.2602117972783976, 0.47785526577527926, 0.6760823958571297]\n",
      "\n",
      "Bin delta MAFE: \t[0.0018649491630636033, 3.6693448358116655e-05, 2.150199341391353e-06, 2.41679280012939e-07, 3.250542487988343e-08, 4.371920698229378e-09]\n"
     ]
    }
   ],
   "source": [
    "fta = FTA.Quantification(name='GNF_demo', \n",
    "                         logic='gnf_logic.txt', \n",
    "                         basic_events='gnf_inl_events_LNORM.txt', \n",
    "                         analysis='Fragility',\n",
    "                         IM = [0.17,2.11],\n",
    "                         nbins=6,\n",
    "                         uncertainty=False,\n",
    "                         lite=False)\n",
    "print fta._Quantification__mcsets\n",
    "print \"TOPRISK_1: \\t\", fta.toprisk_1\n",
    "print \"TOPRISK_2: \\t\", fta.toprisk_2\n",
    "print \"Bin IM: \\t\", fta.toprisk_2_info[0]\n",
    "print \"\\nBin MAFE: \\t\", fta.toprisk_2_info[1]\n",
    "print \"\\nBin top fragility: \\t\", fta.toprisk_2_info[2]\n",
    "print \"\\nBin delta MAFE: \\t\", fta.toprisk_2_info[3]"
   ]
  },
  {
   "cell_type": "code",
   "execution_count": 3,
   "metadata": {
    "scrolled": true
   },
   "outputs": [
    {
     "name": "stdout",
     "output_type": "stream",
     "text": [
      "[2.920238770848301e-07, 0.004865258739290604, 0.07832081056783506, 0.27848516262979317, 0.5340212941640795, 0.7464022389168108]\n",
      "[0.025014073343472058, 0.00012397005035441215, 3.443362217209184e-06, 2.527314674024129e-07, 2.391781357567108e-08, 2.2635163405658832e-09]\n",
      "True\n"
     ]
    }
   ],
   "source": [
    "im = fta.toprisk_2_info[0]\n",
    "haz_freq = fta.toprisk_2_info[1]\n",
    "topfrag = fta.toprisk_2_info[2]\n",
    "haz_freq_deltas = fta.toprisk_2_info[3]\n",
    "\n",
    "print topfrag\n",
    "print haz_freq_deltas\n",
    "\n",
    "# verifying top fragility\n",
    "\n",
    "\n",
    "# Calculating toprisk using approach 2, manually\n",
    "risk_app_2 = [sum([x*y for x, y in zip(topfrag, haz_freq_deltas)])]\n",
    "print (risk_app_2 == fta._Quantification__top_risk_2)"
   ]
  }
 ],
 "metadata": {
  "kernelspec": {
   "display_name": "Python 2",
   "language": "python",
   "name": "python2"
  },
  "language_info": {
   "codemirror_mode": {
    "name": "ipython",
    "version": 2
   },
   "file_extension": ".py",
   "mimetype": "text/x-python",
   "name": "python",
   "nbconvert_exporter": "python",
   "pygments_lexer": "ipython2",
   "version": "2.7.17"
  },
  "toc": {
   "base_numbering": 1,
   "nav_menu": {},
   "number_sections": true,
   "sideBar": true,
   "skip_h1_title": false,
   "title_cell": "Table of Contents",
   "title_sidebar": "Contents",
   "toc_cell": false,
   "toc_position": {},
   "toc_section_display": true,
   "toc_window_display": false
  }
 },
 "nbformat": 4,
 "nbformat_minor": 2
}
